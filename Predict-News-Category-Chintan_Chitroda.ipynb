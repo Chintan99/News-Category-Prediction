{
 "cells": [
  {
   "cell_type": "markdown",
   "metadata": {},
   "source": [
    "# News Category Prediction\n",
    "#### Chintan Chitroda"
   ]
  },
  {
   "cell_type": "markdown",
   "metadata": {},
   "source": [
    "From the beginning, since the first printed newspaper, every news that makes into a page has had a specific section allotted to it. Although pretty much everything changed in newspapers from the ink to the type of paper used, this proper categorization of news was carried over by generations and even to the digital versions of the newspaper. Newspaper articles are not limited to a few topics or subjects, it covers a wide range of interests from politics to sports to movies and so on. For long, this process of sectioning was done manually by people but now technology can do it without much effort. \n",
    "\n",
    "In this Projec, We are going to use Natural Language Processing to predict which genre or category a piece of news will fall in to from the story."
   ]
  },
  {
   "cell_type": "markdown",
   "metadata": {},
   "source": [
    "# FEATURES:\n",
    "\n",
    "### STORY:  A part of the main content of the article to be published as a piece of news.\n",
    "### SECTION: The genre/category the STORY falls in.\n",
    "\n",
    "There are four distinct sections where each story may fall in to. The Sections are labelled as follows :\n",
    "\n",
    "* Politics: 0\n",
    "* Technology: 1\n",
    "* Entertainment: 2\n",
    "* Business: 3"
   ]
  },
  {
   "cell_type": "markdown",
   "metadata": {},
   "source": [
    "## Note:\n",
    "#### The Final Prediction Output file is generated using LightGBM model named 'News_Predicted.csv'."
   ]
  },
  {
   "cell_type": "markdown",
   "metadata": {},
   "source": [
    "### Importing Required Libraries and Dataset"
   ]
  },
  {
   "cell_type": "code",
   "execution_count": 1,
   "metadata": {
    "ExecuteTime": {
     "end_time": "2020-01-31T15:54:54.328954Z",
     "start_time": "2020-01-31T15:54:53.617948Z"
    }
   },
   "outputs": [],
   "source": [
    "import pandas as pd\n",
    "import numpy as np\n",
    "import warnings\n",
    "warnings.filterwarnings('ignore')\n",
    "from tqdm import tqdm_notebook as tqdm"
   ]
  },
  {
   "cell_type": "code",
   "execution_count": 2,
   "metadata": {
    "ExecuteTime": {
     "end_time": "2020-01-31T15:54:54.406005Z",
     "start_time": "2020-01-31T15:54:54.330955Z"
    }
   },
   "outputs": [],
   "source": [
    "train = pd.read_csv('TrainDataset.csv')\n",
    "test = pd.read_csv('TestDataset.csv')"
   ]
  },
  {
   "cell_type": "code",
   "execution_count": 3,
   "metadata": {
    "ExecuteTime": {
     "end_time": "2020-01-31T15:54:54.454037Z",
     "start_time": "2020-01-31T15:54:54.408006Z"
    }
   },
   "outputs": [
    {
     "name": "stdout",
     "output_type": "stream",
     "text": [
      "Train Dataset contain 6102 rows & 2 columns.\n",
      "Test Dataset contain 1526 rows & 1 columns.\n"
     ]
    }
   ],
   "source": [
    "print('Train Dataset contain',train.shape[0],'rows &',train.shape[1],'columns.')\n",
    "print('Test Dataset contain',test.shape[0],'rows &',test.shape[1],'columns.')"
   ]
  },
  {
   "cell_type": "code",
   "execution_count": 4,
   "metadata": {
    "ExecuteTime": {
     "end_time": "2020-01-31T15:54:54.564110Z",
     "start_time": "2020-01-31T15:54:54.456039Z"
    }
   },
   "outputs": [
    {
     "data": {
      "text/html": [
       "<div>\n",
       "<style scoped>\n",
       "    .dataframe tbody tr th:only-of-type {\n",
       "        vertical-align: middle;\n",
       "    }\n",
       "\n",
       "    .dataframe tbody tr th {\n",
       "        vertical-align: top;\n",
       "    }\n",
       "\n",
       "    .dataframe thead th {\n",
       "        text-align: right;\n",
       "    }\n",
       "</style>\n",
       "<table border=\"1\" class=\"dataframe\">\n",
       "  <thead>\n",
       "    <tr style=\"text-align: right;\">\n",
       "      <th></th>\n",
       "      <th>STORY</th>\n",
       "      <th>SECTION</th>\n",
       "    </tr>\n",
       "  </thead>\n",
       "  <tbody>\n",
       "    <tr>\n",
       "      <td>0</td>\n",
       "      <td>The roadshow and the filing of nomination pape...</td>\n",
       "      <td>0</td>\n",
       "    </tr>\n",
       "    <tr>\n",
       "      <td>1</td>\n",
       "      <td>These vulnerabilities could have allowed hacke...</td>\n",
       "      <td>1</td>\n",
       "    </tr>\n",
       "    <tr>\n",
       "      <td>2</td>\n",
       "      <td>\"People will now be able to include music in t...</td>\n",
       "      <td>1</td>\n",
       "    </tr>\n",
       "    <tr>\n",
       "      <td>3</td>\n",
       "      <td>Jersey is expected to have a good start at the...</td>\n",
       "      <td>2</td>\n",
       "    </tr>\n",
       "    <tr>\n",
       "      <td>4</td>\n",
       "      <td>Xiaomi’s unveiling also hints at how Samsung i...</td>\n",
       "      <td>1</td>\n",
       "    </tr>\n",
       "  </tbody>\n",
       "</table>\n",
       "</div>"
      ],
      "text/plain": [
       "                                               STORY  SECTION\n",
       "0  The roadshow and the filing of nomination pape...        0\n",
       "1  These vulnerabilities could have allowed hacke...        1\n",
       "2  \"People will now be able to include music in t...        1\n",
       "3  Jersey is expected to have a good start at the...        2\n",
       "4  Xiaomi’s unveiling also hints at how Samsung i...        1"
      ]
     },
     "execution_count": 4,
     "metadata": {},
     "output_type": "execute_result"
    }
   ],
   "source": [
    "train.head()"
   ]
  },
  {
   "cell_type": "code",
   "execution_count": 5,
   "metadata": {
    "ExecuteTime": {
     "end_time": "2020-01-31T15:54:54.675182Z",
     "start_time": "2020-01-31T15:54:54.567111Z"
    }
   },
   "outputs": [
    {
     "data": {
      "text/html": [
       "<div>\n",
       "<style scoped>\n",
       "    .dataframe tbody tr th:only-of-type {\n",
       "        vertical-align: middle;\n",
       "    }\n",
       "\n",
       "    .dataframe tbody tr th {\n",
       "        vertical-align: top;\n",
       "    }\n",
       "\n",
       "    .dataframe thead th {\n",
       "        text-align: right;\n",
       "    }\n",
       "</style>\n",
       "<table border=\"1\" class=\"dataframe\">\n",
       "  <thead>\n",
       "    <tr style=\"text-align: right;\">\n",
       "      <th></th>\n",
       "      <th>STORY</th>\n",
       "    </tr>\n",
       "  </thead>\n",
       "  <tbody>\n",
       "    <tr>\n",
       "      <td>0</td>\n",
       "      <td>Privileged to have done this candid and COMPLE...</td>\n",
       "    </tr>\n",
       "    <tr>\n",
       "      <td>1</td>\n",
       "      <td>6) Some analysts expect volatility to remain h...</td>\n",
       "    </tr>\n",
       "    <tr>\n",
       "      <td>2</td>\n",
       "      <td>There is no stopping Marvel Cinematic Universe...</td>\n",
       "    </tr>\n",
       "    <tr>\n",
       "      <td>3</td>\n",
       "      <td>According to Ravi Menon, analyst at Elara Secu...</td>\n",
       "    </tr>\n",
       "    <tr>\n",
       "      <td>4</td>\n",
       "      <td>A complaint against Nadiadwala, known for prod...</td>\n",
       "    </tr>\n",
       "  </tbody>\n",
       "</table>\n",
       "</div>"
      ],
      "text/plain": [
       "                                               STORY\n",
       "0  Privileged to have done this candid and COMPLE...\n",
       "1  6) Some analysts expect volatility to remain h...\n",
       "2  There is no stopping Marvel Cinematic Universe...\n",
       "3  According to Ravi Menon, analyst at Elara Secu...\n",
       "4  A complaint against Nadiadwala, known for prod..."
      ]
     },
     "execution_count": 5,
     "metadata": {},
     "output_type": "execute_result"
    }
   ],
   "source": [
    "test.head()"
   ]
  },
  {
   "cell_type": "code",
   "execution_count": 6,
   "metadata": {
    "ExecuteTime": {
     "end_time": "2020-01-31T15:54:54.772372Z",
     "start_time": "2020-01-31T15:54:54.677184Z"
    }
   },
   "outputs": [],
   "source": [
    "### Making a copy of original dataframe\n",
    "trainCopy = train\n",
    "testCopy = test"
   ]
  },
  {
   "cell_type": "markdown",
   "metadata": {},
   "source": [
    "## Removing Stop Words, Punctuations & Getting lowercases"
   ]
  },
  {
   "cell_type": "code",
   "execution_count": 7,
   "metadata": {
    "ExecuteTime": {
     "end_time": "2020-01-31T15:54:59.192999Z",
     "start_time": "2020-01-31T15:54:55.057413Z"
    }
   },
   "outputs": [],
   "source": [
    "from textblob import TextBlob ### For Sentiment Polarity\n",
    "from nltk.corpus import stopwords\n",
    "stop_words = set(stopwords.words('english'))\n",
    "import string"
   ]
  },
  {
   "cell_type": "code",
   "execution_count": 8,
   "metadata": {
    "ExecuteTime": {
     "end_time": "2020-01-31T15:54:59.210001Z",
     "start_time": "2020-01-31T15:54:59.194992Z"
    }
   },
   "outputs": [],
   "source": [
    "def text_process(mess):\n",
    "    nopunc = [char for char in mess if char not in string.punctuation]\n",
    "    nopunc = ''.join(nopunc)\n",
    "    nopunc =  ' '.join([word for word in nopunc.split() if word.lower() not in stop_words])\n",
    "    return str(TextBlob(nopunc)).lower()"
   ]
  },
  {
   "cell_type": "code",
   "execution_count": 9,
   "metadata": {
    "ExecuteTime": {
     "end_time": "2020-01-31T15:54:59.365415Z",
     "start_time": "2020-01-31T15:54:59.214004Z"
    }
   },
   "outputs": [],
   "source": [
    "joined = pd.DataFrame()\n",
    "joined['STORY'] = train['STORY'].append(test['STORY'])"
   ]
  },
  {
   "cell_type": "code",
   "execution_count": 10,
   "metadata": {
    "ExecuteTime": {
     "end_time": "2020-01-31T15:54:59.845599Z",
     "start_time": "2020-01-31T15:54:59.369419Z"
    }
   },
   "outputs": [],
   "source": [
    "joined.replace(\"[^a-zA-Z]\",\" \",regex=True,inplace=True) ### REMOVEING REGULAR EXPRESSION"
   ]
  },
  {
   "cell_type": "code",
   "execution_count": 11,
   "metadata": {
    "ExecuteTime": {
     "end_time": "2020-01-31T15:55:00.755199Z",
     "start_time": "2020-01-31T15:54:59.846590Z"
    }
   },
   "outputs": [],
   "source": [
    "joined['STORY'] = joined.STORY.apply(text_process) ## REMOVING PUCTUATION AND STOP WORDS AND LOWERING WORDS"
   ]
  },
  {
   "cell_type": "markdown",
   "metadata": {},
   "source": [
    "### Lemmatization"
   ]
  },
  {
   "cell_type": "code",
   "execution_count": 12,
   "metadata": {
    "ExecuteTime": {
     "end_time": "2020-01-31T15:55:00.760194Z",
     "start_time": "2020-01-31T15:55:00.756191Z"
    }
   },
   "outputs": [],
   "source": [
    "import nltk\n",
    "from nltk.stem import PorterStemmer\n",
    "from nltk.stem import WordNetLemmatizer"
   ]
  },
  {
   "cell_type": "code",
   "execution_count": 13,
   "metadata": {
    "ExecuteTime": {
     "end_time": "2020-01-31T15:55:00.939338Z",
     "start_time": "2020-01-31T15:55:00.762196Z"
    }
   },
   "outputs": [],
   "source": [
    "story = []\n",
    "for i in joined.STORY:\n",
    "    story.append(i)"
   ]
  },
  {
   "cell_type": "code",
   "execution_count": 14,
   "metadata": {
    "ExecuteTime": {
     "end_time": "2020-01-31T15:55:01.060221Z",
     "start_time": "2020-01-31T15:55:00.944341Z"
    }
   },
   "outputs": [],
   "source": [
    "stemmer = PorterStemmer()\n",
    "lemmatizer = WordNetLemmatizer()"
   ]
  },
  {
   "cell_type": "code",
   "execution_count": 15,
   "metadata": {
    "ExecuteTime": {
     "end_time": "2020-01-31T15:55:10.299947Z",
     "start_time": "2020-01-31T15:55:01.062224Z"
    }
   },
   "outputs": [
    {
     "data": {
      "application/vnd.jupyter.widget-view+json": {
       "model_id": "9a2e1c1925cd4fce868149d7d61367dd",
       "version_major": 2,
       "version_minor": 0
      },
      "text/plain": [
       "HBox(children=(FloatProgress(value=0.0, max=7628.0), HTML(value='')))"
      ]
     },
     "metadata": {},
     "output_type": "display_data"
    },
    {
     "name": "stdout",
     "output_type": "stream",
     "text": [
      "\n"
     ]
    }
   ],
   "source": [
    "new_sentence = []\n",
    "for i in tqdm(range(len(story))):\n",
    "    words = nltk.word_tokenize(story[i])\n",
    "    words = [lemmatizer.lemmatize(word) for word in words]\n",
    "    new_sentence.append(' '.join(words))\n",
    "    \n",
    "    ## just checking result with both, Using Lemmatization as it is good.\n",
    "    #for word in words:\n",
    "        #print(word,\"---to setm-------->\",stemmer.stem(word))\n",
    "        #print(word,'---to lematize---->',lemmatizer.lemmatize(word))"
   ]
  },
  {
   "cell_type": "code",
   "execution_count": 16,
   "metadata": {
    "ExecuteTime": {
     "end_time": "2020-01-31T15:55:10.305950Z",
     "start_time": "2020-01-31T15:55:10.300947Z"
    }
   },
   "outputs": [
    {
     "data": {
      "text/plain": [
       "'These vulnerabilities could have allowed hackers to access sensitive information and take control over a number of smart home devices on the platform like door locks, security cameras and thermostats\\n\\n\\nNEW DELHI: In September 2016, a major part of the internet on the east coast of the US went on the blink following the biggest cyber attack in the history of the internet. Now we know that it was the Mirai malware that triggered this internet of things (IoT) botnet attack that took down big websites including Twitter, The Guardian, Netflix, Reddit, and CNN. Two years later in July, Cisco Talos found several vulnerabilities in the firmware of Samsung’s SmartThings Hub platform for its IOT devices.\\n\\n\\nThese vulnerabilities could have allowed hackers to access sensitive information and take control over a number of smart home devices on the platform like door locks, security cameras and thermostats. These devices can be found on Shodan, a search engine for IoT devices and then using Nmap scan hackers can identify the ones with open ports whose IP address is visible online.'"
      ]
     },
     "execution_count": 16,
     "metadata": {},
     "output_type": "execute_result"
    }
   ],
   "source": [
    "train.STORY[1] ## Original "
   ]
  },
  {
   "cell_type": "code",
   "execution_count": 17,
   "metadata": {
    "ExecuteTime": {
     "end_time": "2020-01-31T15:55:11.037406Z",
     "start_time": "2020-01-31T15:55:11.034406Z"
    }
   },
   "outputs": [
    {
     "data": {
      "text/plain": [
       "'vulnerability could allowed hacker access sensitive information take control number smart home device platform like door lock security camera thermostat new delhi september major part internet east coast u went blink following biggest cyber attack history internet know mirai malware triggered internet thing iot botnet attack took big website including twitter guardian netflix reddit cnn two year later july cisco talos found several vulnerability firmware samsung smartthings hub platform iot device vulnerability could allowed hacker access sensitive information take control number smart home device platform like door lock security camera thermostat device found shodan search engine iot device using nmap scan hacker identify one open port whose ip address visible online'"
      ]
     },
     "execution_count": 17,
     "metadata": {},
     "output_type": "execute_result"
    }
   ],
   "source": [
    "new_sentence[1] ## After Processing"
   ]
  },
  {
   "cell_type": "markdown",
   "metadata": {},
   "source": [
    "#### we could see a Big Difference after removing Stop Words and Punctuation and appliying Lemmatization"
   ]
  },
  {
   "cell_type": "markdown",
   "metadata": {},
   "source": [
    "# TFIDF"
   ]
  },
  {
   "cell_type": "code",
   "execution_count": 18,
   "metadata": {
    "ExecuteTime": {
     "end_time": "2020-01-31T15:55:13.246367Z",
     "start_time": "2020-01-31T15:55:12.408814Z"
    }
   },
   "outputs": [],
   "source": [
    "from sklearn.feature_extraction.text import TfidfVectorizer\n",
    "tfid = TfidfVectorizer() \n",
    "data = tfid.fit_transform(new_sentence).toarray()"
   ]
  },
  {
   "cell_type": "code",
   "execution_count": 19,
   "metadata": {
    "ExecuteTime": {
     "end_time": "2020-01-31T15:55:13.254371Z",
     "start_time": "2020-01-31T15:55:13.248368Z"
    }
   },
   "outputs": [],
   "source": [
    "tfid = TfidfVectorizer() "
   ]
  },
  {
   "cell_type": "code",
   "execution_count": 20,
   "metadata": {
    "ExecuteTime": {
     "end_time": "2020-01-31T15:55:14.229742Z",
     "start_time": "2020-01-31T15:55:13.256373Z"
    }
   },
   "outputs": [],
   "source": [
    "data = tfid.fit_transform(new_sentence).toarray()"
   ]
  },
  {
   "cell_type": "markdown",
   "metadata": {},
   "source": [
    "## Spliting data original Test and Train"
   ]
  },
  {
   "cell_type": "code",
   "execution_count": 21,
   "metadata": {
    "ExecuteTime": {
     "end_time": "2020-01-31T15:55:14.234746Z",
     "start_time": "2020-01-31T15:55:14.231744Z"
    }
   },
   "outputs": [],
   "source": [
    "train1 = data[:6102]\n",
    "test = data[-1526:]"
   ]
  },
  {
   "cell_type": "markdown",
   "metadata": {},
   "source": [
    "## Making ML Models"
   ]
  },
  {
   "cell_type": "markdown",
   "metadata": {},
   "source": [
    "### Random Forest"
   ]
  },
  {
   "cell_type": "code",
   "execution_count": 22,
   "metadata": {
    "ExecuteTime": {
     "end_time": "2020-01-31T15:55:14.856753Z",
     "start_time": "2020-01-31T15:55:14.236748Z"
    }
   },
   "outputs": [],
   "source": [
    "from sklearn.ensemble import RandomForestClassifier\n",
    "from sklearn.model_selection import train_test_split\n",
    "from sklearn.metrics import classification_report\n",
    "from sklearn.metrics import confusion_matrix\n",
    "from sklearn.metrics import f1_score"
   ]
  },
  {
   "cell_type": "code",
   "execution_count": 23,
   "metadata": {
    "ExecuteTime": {
     "end_time": "2020-01-31T15:55:14.926626Z",
     "start_time": "2020-01-31T15:55:14.858752Z"
    }
   },
   "outputs": [],
   "source": [
    "X = train1             ## Passing out TFID Train output to Train\n",
    "y = train[['SECTION']]"
   ]
  },
  {
   "cell_type": "code",
   "execution_count": 24,
   "metadata": {
    "ExecuteTime": {
     "end_time": "2020-01-31T15:55:15.695103Z",
     "start_time": "2020-01-31T15:55:14.928627Z"
    }
   },
   "outputs": [],
   "source": [
    "X_train, X_test, y_train, y_test = train_test_split(X, y, train_size=.7)"
   ]
  },
  {
   "cell_type": "code",
   "execution_count": 25,
   "metadata": {
    "ExecuteTime": {
     "end_time": "2020-01-31T15:55:15.700107Z",
     "start_time": "2020-01-31T15:55:15.696104Z"
    }
   },
   "outputs": [],
   "source": [
    "rfc = RandomForestClassifier(n_estimators=50,max_depth=12, random_state=101,\n",
    "                             class_weight='balanced',verbose=1,n_jobs=-1)"
   ]
  },
  {
   "cell_type": "code",
   "execution_count": 26,
   "metadata": {
    "ExecuteTime": {
     "end_time": "2020-01-31T15:55:18.690216Z",
     "start_time": "2020-01-31T15:55:15.701108Z"
    }
   },
   "outputs": [
    {
     "name": "stderr",
     "output_type": "stream",
     "text": [
      "[Parallel(n_jobs=-1)]: Using backend ThreadingBackend with 4 concurrent workers.\n",
      "[Parallel(n_jobs=-1)]: Done  42 tasks      | elapsed:    1.8s\n",
      "[Parallel(n_jobs=-1)]: Done  50 out of  50 | elapsed:    2.1s finished\n"
     ]
    },
    {
     "data": {
      "text/plain": [
       "RandomForestClassifier(bootstrap=True, class_weight='balanced',\n",
       "                       criterion='gini', max_depth=12, max_features='auto',\n",
       "                       max_leaf_nodes=None, min_impurity_decrease=0.0,\n",
       "                       min_impurity_split=None, min_samples_leaf=1,\n",
       "                       min_samples_split=2, min_weight_fraction_leaf=0.0,\n",
       "                       n_estimators=50, n_jobs=-1, oob_score=False,\n",
       "                       random_state=101, verbose=1, warm_start=False)"
      ]
     },
     "execution_count": 26,
     "metadata": {},
     "output_type": "execute_result"
    }
   ],
   "source": [
    "rfc.fit(X_train,y_train)"
   ]
  },
  {
   "cell_type": "code",
   "execution_count": 27,
   "metadata": {
    "ExecuteTime": {
     "end_time": "2020-01-31T15:55:19.008427Z",
     "start_time": "2020-01-31T15:55:18.692218Z"
    }
   },
   "outputs": [
    {
     "name": "stderr",
     "output_type": "stream",
     "text": [
      "[Parallel(n_jobs=4)]: Using backend ThreadingBackend with 4 concurrent workers.\n",
      "[Parallel(n_jobs=4)]: Done  42 tasks      | elapsed:    0.0s\n",
      "[Parallel(n_jobs=4)]: Done  50 out of  50 | elapsed:    0.0s finished\n"
     ]
    }
   ],
   "source": [
    "y_pred = rfc.predict(X_test)"
   ]
  },
  {
   "cell_type": "code",
   "execution_count": 28,
   "metadata": {
    "ExecuteTime": {
     "end_time": "2020-01-31T15:55:19.027440Z",
     "start_time": "2020-01-31T15:55:19.010428Z"
    }
   },
   "outputs": [
    {
     "name": "stdout",
     "output_type": "stream",
     "text": [
      "F1 Score : 0.9037796957618115\n",
      "Report:\n",
      "               precision    recall  f1-score   support\n",
      "\n",
      "           0       0.96      0.92      0.94       397\n",
      "           1       0.97      0.85      0.91       693\n",
      "           2       0.78      0.97      0.87       422\n",
      "           3       0.92      0.91      0.91       319\n",
      "\n",
      "    accuracy                           0.90      1831\n",
      "   macro avg       0.91      0.91      0.91      1831\n",
      "weighted avg       0.91      0.90      0.91      1831\n",
      "\n",
      "Confusion Matrix: \n",
      " [[366   9  21   1]\n",
      " [ 10 591  70  22]\n",
      " [  4   5 411   2]\n",
      " [  2   6  22 289]]\n"
     ]
    }
   ],
   "source": [
    "print(\"F1 Score :\",f1_score(y_pred,y_test,average = \"weighted\"))\n",
    "print('Report:\\n',classification_report(y_test, y_pred))\n",
    "print('Confusion Matrix: \\n',confusion_matrix(y_test, y_pred))"
   ]
  },
  {
   "cell_type": "markdown",
   "metadata": {},
   "source": [
    "### Predicting Test"
   ]
  },
  {
   "cell_type": "code",
   "execution_count": 29,
   "metadata": {
    "ExecuteTime": {
     "end_time": "2020-01-31T15:55:19.622654Z",
     "start_time": "2020-01-31T15:55:19.332473Z"
    }
   },
   "outputs": [
    {
     "name": "stderr",
     "output_type": "stream",
     "text": [
      "[Parallel(n_jobs=4)]: Using backend ThreadingBackend with 4 concurrent workers.\n",
      "[Parallel(n_jobs=4)]: Done  42 tasks      | elapsed:    0.0s\n",
      "[Parallel(n_jobs=4)]: Done  50 out of  50 | elapsed:    0.0s finished\n"
     ]
    }
   ],
   "source": [
    "y_pred = rfc.predict(test)"
   ]
  },
  {
   "cell_type": "code",
   "execution_count": 30,
   "metadata": {
    "ExecuteTime": {
     "end_time": "2020-01-31T15:55:19.717412Z",
     "start_time": "2020-01-31T15:55:19.710408Z"
    }
   },
   "outputs": [
    {
     "data": {
      "text/plain": [
       "1    493\n",
       "2    471\n",
       "0    335\n",
       "3    227\n",
       "dtype: int64"
      ]
     },
     "execution_count": 30,
     "metadata": {},
     "output_type": "execute_result"
    }
   ],
   "source": [
    "pd.Series(y_pred).value_counts()"
   ]
  },
  {
   "cell_type": "markdown",
   "metadata": {},
   "source": [
    "## Light GBM"
   ]
  },
  {
   "cell_type": "code",
   "execution_count": 31,
   "metadata": {
    "ExecuteTime": {
     "end_time": "2020-01-31T15:55:20.254795Z",
     "start_time": "2020-01-31T15:55:20.238783Z"
    }
   },
   "outputs": [],
   "source": [
    "import lightgbm as lgb"
   ]
  },
  {
   "cell_type": "code",
   "execution_count": 32,
   "metadata": {
    "ExecuteTime": {
     "end_time": "2020-01-31T15:55:20.462328Z",
     "start_time": "2020-01-31T15:55:20.460327Z"
    }
   },
   "outputs": [],
   "source": [
    "y_train = y_train.values"
   ]
  },
  {
   "cell_type": "code",
   "execution_count": 33,
   "metadata": {
    "ExecuteTime": {
     "end_time": "2020-01-31T15:55:50.729587Z",
     "start_time": "2020-01-31T15:55:20.904882Z"
    }
   },
   "outputs": [
    {
     "data": {
      "text/plain": [
       "LGBMClassifier(boosting_type='gbdt', class_weight=None, colsample_bytree=1.0,\n",
       "               learning_rate=0.1, max_depth=-1, min_child_samples=20,\n",
       "               min_child_weight=0.001, min_split_gain=0.0, n_estimators=400,\n",
       "               n_jobs=-1, num_leaves=31, objective=None, random_state=42,\n",
       "               reg_alpha=0.0, reg_lambda=0.0, silent=True, subsample=1.0,\n",
       "               subsample_for_bin=200000, subsample_freq=1)"
      ]
     },
     "execution_count": 33,
     "metadata": {},
     "output_type": "execute_result"
    }
   ],
   "source": [
    "model = lgb.LGBMClassifier(n_estimators=400,random_state=42)\n",
    "model.fit(X_train, y_train)"
   ]
  },
  {
   "cell_type": "code",
   "execution_count": 34,
   "metadata": {
    "ExecuteTime": {
     "end_time": "2020-01-31T15:55:51.180885Z",
     "start_time": "2020-01-31T15:55:50.730588Z"
    }
   },
   "outputs": [],
   "source": [
    "y_pred = model.predict(X_test)"
   ]
  },
  {
   "cell_type": "code",
   "execution_count": 35,
   "metadata": {
    "ExecuteTime": {
     "end_time": "2020-01-31T15:55:51.198898Z",
     "start_time": "2020-01-31T15:55:51.182887Z"
    }
   },
   "outputs": [
    {
     "name": "stdout",
     "output_type": "stream",
     "text": [
      "F1 Score : 0.950732334452485\n",
      "Report:\n",
      "               precision    recall  f1-score   support\n",
      "\n",
      "           0       0.96      0.95      0.95       397\n",
      "           1       0.97      0.94      0.95       693\n",
      "           2       0.91      0.98      0.94       422\n",
      "           3       0.96      0.95      0.96       319\n",
      "\n",
      "    accuracy                           0.95      1831\n",
      "   macro avg       0.95      0.95      0.95      1831\n",
      "weighted avg       0.95      0.95      0.95      1831\n",
      "\n",
      "Confusion Matrix: \n",
      " [[377   9   9   2]\n",
      " [ 10 649  26   8]\n",
      " [  4   5 412   1]\n",
      " [  3   6   7 303]]\n"
     ]
    }
   ],
   "source": [
    "print(\"F1 Score :\",f1_score(y_pred,y_test,average = \"weighted\"))\n",
    "print('Report:\\n',classification_report(y_test, y_pred))\n",
    "print('Confusion Matrix: \\n',confusion_matrix(y_test, y_pred))"
   ]
  },
  {
   "cell_type": "code",
   "execution_count": 36,
   "metadata": {
    "ExecuteTime": {
     "end_time": "2020-01-31T15:55:51.487762Z",
     "start_time": "2020-01-31T15:55:51.200899Z"
    }
   },
   "outputs": [],
   "source": [
    "import matplotlib.pyplot as plt"
   ]
  },
  {
   "cell_type": "code",
   "execution_count": 37,
   "metadata": {
    "ExecuteTime": {
     "end_time": "2020-01-31T15:55:52.296297Z",
     "start_time": "2020-01-31T15:55:51.488767Z"
    }
   },
   "outputs": [
    {
     "data": {
      "image/png": "[encoded data removed]",
      "text/plain": [
       "<Figure size 864x1296 with 1 Axes>"
      ]
     },
     "metadata": {
      "needs_background": "light"
     },
     "output_type": "display_data"
    }
   ],
   "source": [
    "fig, ax = plt.subplots(figsize=(12,18))\n",
    "lgb.plot_importance(model, max_num_features=50, height=0.8, ax=ax)\n",
    "ax.grid(False)\n",
    "plt.title(\"LightGBM - Feature Importance\", fontsize=15)\n",
    "plt.show()"
   ]
  },
  {
   "cell_type": "markdown",
   "metadata": {},
   "source": [
    "### Performing Cross Validation on Both Models"
   ]
  },
  {
   "cell_type": "code",
   "execution_count": 38,
   "metadata": {
    "ExecuteTime": {
     "end_time": "2020-01-31T15:55:58.906045Z",
     "start_time": "2020-01-31T15:55:58.902044Z"
    }
   },
   "outputs": [],
   "source": [
    "from sklearn.model_selection import cross_val_score"
   ]
  },
  {
   "cell_type": "code",
   "execution_count": 92,
   "metadata": {
    "ExecuteTime": {
     "end_time": "2020-01-31T13:49:17.803116Z",
     "start_time": "2020-01-31T13:47:59.364268Z"
    },
    "scrolled": true
   },
   "outputs": [
    {
     "name": "stdout",
     "output_type": "stream",
     "text": [
      "### Random Forest Classifier ###\n",
      "Cross-validation mean accuracy >> 90.642\n",
      "Cross-Validation scores [0.91007371 0.91494592 0.89424496]\n"
     ]
    }
   ],
   "source": [
    "score1 = cross_val_score(rfc, X, y, scoring='accuracy',n_jobs=-1, cv=3)\n",
    "print('### Random Forest Classifier ###')\n",
    "print('Cross-validation mean accuracy >>',round(np.mean(score1),5) * 100)\n",
    "print('Cross-Validation scores',score1)"
   ]
  },
  {
   "cell_type": "code",
   "execution_count": 93,
   "metadata": {
    "ExecuteTime": {
     "end_time": "2020-01-31T13:50:56.236592Z",
     "start_time": "2020-01-31T13:49:18.084389Z"
    }
   },
   "outputs": [
    {
     "name": "stdout",
     "output_type": "stream",
     "text": [
      "### Light GBM Classifier ###\n",
      "Cross-validation mean accuracy >> 94.854\n",
      "Cross-Validation scores [0.95577396 0.94690265 0.94294147]\n"
     ]
    }
   ],
   "source": [
    "score2 = cross_val_score(model, X, y, scoring='accuracy',cv=3)\n",
    "print('### Light GBM Classifier ###')\n",
    "print('Cross-validation mean accuracy >>',round(np.mean(score2),5) * 100)\n",
    "print('Cross-Validation scores',score2)"
   ]
  },
  {
   "cell_type": "markdown",
   "metadata": {},
   "source": [
    "###### We see the Performance of Light GBM is better than Random Forest based on metrics like F1 score and Cross validation."
   ]
  },
  {
   "cell_type": "markdown",
   "metadata": {
    "ExecuteTime": {
     "end_time": "2020-01-31T13:50:56.367841Z",
     "start_time": "2020-01-31T13:50:56.254765Z"
    }
   },
   "source": [
    "###### We can conclude that LightGBM performs better in this case."
   ]
  },
  {
   "cell_type": "markdown",
   "metadata": {},
   "source": [
    "## Predicting test.csv file with Light GBM MODEL"
   ]
  },
  {
   "cell_type": "code",
   "execution_count": 39,
   "metadata": {
    "ExecuteTime": {
     "end_time": "2020-01-31T15:56:03.374803Z",
     "start_time": "2020-01-31T15:56:03.021572Z"
    }
   },
   "outputs": [],
   "source": [
    "sol = model.predict(test)"
   ]
  },
  {
   "cell_type": "code",
   "execution_count": 40,
   "metadata": {
    "ExecuteTime": {
     "end_time": "2020-01-31T15:56:04.544087Z",
     "start_time": "2020-01-31T15:56:04.539083Z"
    }
   },
   "outputs": [],
   "source": [
    "solution = pd.DataFrame()\n",
    "solution['SECTION']=sol"
   ]
  },
  {
   "cell_type": "code",
   "execution_count": 41,
   "metadata": {
    "ExecuteTime": {
     "end_time": "2020-01-31T15:56:05.358516Z",
     "start_time": "2020-01-31T15:56:05.351513Z"
    }
   },
   "outputs": [
    {
     "data": {
      "text/html": [
       "<div>\n",
       "<style scoped>\n",
       "    .dataframe tbody tr th:only-of-type {\n",
       "        vertical-align: middle;\n",
       "    }\n",
       "\n",
       "    .dataframe tbody tr th {\n",
       "        vertical-align: top;\n",
       "    }\n",
       "\n",
       "    .dataframe thead th {\n",
       "        text-align: right;\n",
       "    }\n",
       "</style>\n",
       "<table border=\"1\" class=\"dataframe\">\n",
       "  <thead>\n",
       "    <tr style=\"text-align: right;\">\n",
       "      <th></th>\n",
       "      <th>SECTION</th>\n",
       "    </tr>\n",
       "  </thead>\n",
       "  <tbody>\n",
       "    <tr>\n",
       "      <td>0</td>\n",
       "      <td>2</td>\n",
       "    </tr>\n",
       "    <tr>\n",
       "      <td>1</td>\n",
       "      <td>3</td>\n",
       "    </tr>\n",
       "    <tr>\n",
       "      <td>2</td>\n",
       "      <td>2</td>\n",
       "    </tr>\n",
       "    <tr>\n",
       "      <td>3</td>\n",
       "      <td>1</td>\n",
       "    </tr>\n",
       "    <tr>\n",
       "      <td>4</td>\n",
       "      <td>2</td>\n",
       "    </tr>\n",
       "  </tbody>\n",
       "</table>\n",
       "</div>"
      ],
      "text/plain": [
       "   SECTION\n",
       "0        2\n",
       "1        3\n",
       "2        2\n",
       "3        1\n",
       "4        2"
      ]
     },
     "execution_count": 41,
     "metadata": {},
     "output_type": "execute_result"
    }
   ],
   "source": [
    "solution.head(5)"
   ]
  },
  {
   "cell_type": "markdown",
   "metadata": {},
   "source": [
    "## Cross Checking\n",
    "#### Cross Checking with Test Copy we made at beginning.\n",
    "* Politics: 0\n",
    "* Technology: 1\n",
    "* Entertainment: 2\n",
    "* Business: 3"
   ]
  },
  {
   "cell_type": "code",
   "execution_count": 42,
   "metadata": {
    "ExecuteTime": {
     "end_time": "2020-01-31T15:56:06.820474Z",
     "start_time": "2020-01-31T15:56:06.813468Z"
    }
   },
   "outputs": [
    {
     "data": {
      "text/html": [
       "<div>\n",
       "<style scoped>\n",
       "    .dataframe tbody tr th:only-of-type {\n",
       "        vertical-align: middle;\n",
       "    }\n",
       "\n",
       "    .dataframe tbody tr th {\n",
       "        vertical-align: top;\n",
       "    }\n",
       "\n",
       "    .dataframe thead th {\n",
       "        text-align: right;\n",
       "    }\n",
       "</style>\n",
       "<table border=\"1\" class=\"dataframe\">\n",
       "  <thead>\n",
       "    <tr style=\"text-align: right;\">\n",
       "      <th></th>\n",
       "      <th>SECTION</th>\n",
       "    </tr>\n",
       "  </thead>\n",
       "  <tbody>\n",
       "    <tr>\n",
       "      <td>0</td>\n",
       "      <td>2</td>\n",
       "    </tr>\n",
       "    <tr>\n",
       "      <td>1</td>\n",
       "      <td>3</td>\n",
       "    </tr>\n",
       "    <tr>\n",
       "      <td>2</td>\n",
       "      <td>2</td>\n",
       "    </tr>\n",
       "    <tr>\n",
       "      <td>3</td>\n",
       "      <td>1</td>\n",
       "    </tr>\n",
       "  </tbody>\n",
       "</table>\n",
       "</div>"
      ],
      "text/plain": [
       "   SECTION\n",
       "0        2\n",
       "1        3\n",
       "2        2\n",
       "3        1"
      ]
     },
     "execution_count": 42,
     "metadata": {},
     "output_type": "execute_result"
    }
   ],
   "source": [
    "### Taking first 4 records.\n",
    "solution.head(4)"
   ]
  },
  {
   "cell_type": "code",
   "execution_count": 43,
   "metadata": {
    "ExecuteTime": {
     "end_time": "2020-01-31T15:56:07.399954Z",
     "start_time": "2020-01-31T15:56:07.395951Z"
    }
   },
   "outputs": [
    {
     "data": {
      "text/plain": [
       "'Privileged to have done this candid and COMPLETELY NON POLITICAL freewheeling conversation with our PM @narendramodi,” Kumar wrote on the microblogging site\\n\\n\\nModi replied to the tweet, saying, “Dear @akshaykumar, it was good talking to you about everything, except politics and elections :) I’m sure people would like watching our conversation'"
      ]
     },
     "execution_count": 43,
     "metadata": {},
     "output_type": "execute_result"
    }
   ],
   "source": [
    "### Predicted as Politics (0) and by reading we can say its actually Political news.\n",
    "testCopy.STORY[0] "
   ]
  },
  {
   "cell_type": "code",
   "execution_count": 44,
   "metadata": {
    "ExecuteTime": {
     "end_time": "2020-01-31T15:56:07.809820Z",
     "start_time": "2020-01-31T15:56:07.805818Z"
    }
   },
   "outputs": [
    {
     "data": {
      "text/plain": [
       "'6) Some analysts expect volatility to remain high in the near term. Sahaj Agrawal, head of research for derivatives at Kotak Securities, said: \"After a strong rally seen in the recent past, Nifty currently is in a consolidation phase. Tech parameters suggest possibility of extended consolidation before the upmove resumes. We continue to believe the bias remains positive.\"\\n\\n\\n7) On the downside, Nifty has strong support at 11,200-11300, said Sahaj Agrawal of Kotak Securities. \"On the higher side we would expect 12300-12500 on Nifty. Banking is expected to witness some profit-booking,\" he said.\\n\\n\\n8) Banking shares today saw some profit-taking after outperforming in the recent rally. The index for banking stocks, Nifty Bank, today ended 0.90% lower, with PNB, Yes Bank, ICICI Bank and SBI among top losers.'"
      ]
     },
     "execution_count": 44,
     "metadata": {},
     "output_type": "execute_result"
    }
   ],
   "source": [
    "### Predicted as Business (3) and by reading we can say its actually Business news.\n",
    "testCopy.STORY[1] "
   ]
  },
  {
   "cell_type": "code",
   "execution_count": 45,
   "metadata": {
    "ExecuteTime": {
     "end_time": "2020-01-31T15:56:08.447685Z",
     "start_time": "2020-01-31T15:56:08.443681Z"
    }
   },
   "outputs": [
    {
     "data": {
      "text/plain": [
       "'There is no stopping Marvel Cinematic Universe’s latest offering Avengers: Endgame, as far as box office figures are concerned\\n\\n\\n It was supposed to open somewhere between 260 million dollars and 300 million dollars in Canada and the US'"
      ]
     },
     "execution_count": 45,
     "metadata": {},
     "output_type": "execute_result"
    }
   ],
   "source": [
    "### Predicted as Entertainment (2) and by reading we can say its actually Entertainment news\n",
    "testCopy.STORY[2] "
   ]
  },
  {
   "cell_type": "code",
   "execution_count": 46,
   "metadata": {
    "ExecuteTime": {
     "end_time": "2020-01-31T15:56:09.115905Z",
     "start_time": "2020-01-31T15:56:09.111901Z"
    }
   },
   "outputs": [
    {
     "data": {
      "text/plain": [
       "'According to Ravi Menon, analyst at Elara Securities (India) Pvt. Ltd, two factors are driving the broadband subscriber base. One is the bundled plans. The second is the network effect where growing usage of internet applications (such as apps) pulls in more users.\\n\\n\\nThis works well for the telecom industry, as bundled packages are generally priced higher than plain vanilla voice plans. But encouraging high data usage also entails high capex, which is why all telcos have been burning a lot of cash. Unless tariffs rise from current levels, the situation is unlikely to improve.'"
      ]
     },
     "execution_count": 46,
     "metadata": {},
     "output_type": "execute_result"
    }
   ],
   "source": [
    "### Predicted as Technology (1) and by reading we can say its actually Technology news\n",
    "testCopy.STORY[3] "
   ]
  },
  {
   "cell_type": "markdown",
   "metadata": {},
   "source": [
    "#### So after cross checking, we can say the model is performing Good on Test data set as well."
   ]
  },
  {
   "cell_type": "markdown",
   "metadata": {},
   "source": [
    "###### Making csv file for test prediction"
   ]
  },
  {
   "cell_type": "code",
   "execution_count": 47,
   "metadata": {
    "ExecuteTime": {
     "end_time": "2020-01-31T15:56:14.648239Z",
     "start_time": "2020-01-31T15:56:14.583708Z"
    }
   },
   "outputs": [],
   "source": [
    "solution.to_csv('News_Predicted.csv',index=False)"
   ]
  },
  {
   "cell_type": "markdown",
   "metadata": {},
   "source": [
    "### Thank you ;)"
   ]
  }
 ],
 "metadata": {
  "kernelspec": {
   "display_name": "Python 3",
   "language": "python",
   "name": "python3"
  },
  "language_info": {
   "codemirror_mode": {
    "name": "ipython",
    "version": 3
   },
   "file_extension": ".py",
   "mimetype": "text/x-python",
   "name": "python",
   "nbconvert_exporter": "python",
   "pygments_lexer": "ipython3",
   "version": "3.7.4"
  }
 },
 "nbformat": 4,
 "nbformat_minor": 2
}
